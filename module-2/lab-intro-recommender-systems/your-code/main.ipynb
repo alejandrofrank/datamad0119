{
 "cells": [
  {
   "cell_type": "markdown",
   "metadata": {},
   "source": [
    "# Intro to Recommender Systems Lab\n",
    "\n",
    "Complete the exercises below to solidify your knowledge and understanding of recommender systems.\n",
    "\n",
    "For this lab, we are going to be putting together a user similarity based recommender system in a step-by-step fashion. Our data set contains customer grocery purchases, and we will use similar purchase behavior to inform our recommender system. Our recommender system will generate 5 recommendations for each customer based on the purchases they have made."
   ]
  },
  {
   "cell_type": "code",
   "execution_count": 1,
   "metadata": {},
   "outputs": [],
   "source": [
    "import pandas as pd\n",
    "from scipy.spatial.distance import pdist, squareform"
   ]
  },
  {
   "cell_type": "code",
   "execution_count": 2,
   "metadata": {},
   "outputs": [],
   "source": [
    "data = pd.read_csv('../data/customer_product_sales.csv')"
   ]
  },
  {
   "cell_type": "code",
   "execution_count": 3,
   "metadata": {},
   "outputs": [
    {
     "data": {
      "text/html": [
       "<div>\n",
       "<style scoped>\n",
       "    .dataframe tbody tr th:only-of-type {\n",
       "        vertical-align: middle;\n",
       "    }\n",
       "\n",
       "    .dataframe tbody tr th {\n",
       "        vertical-align: top;\n",
       "    }\n",
       "\n",
       "    .dataframe thead th {\n",
       "        text-align: right;\n",
       "    }\n",
       "</style>\n",
       "<table border=\"1\" class=\"dataframe\">\n",
       "  <thead>\n",
       "    <tr style=\"text-align: right;\">\n",
       "      <th></th>\n",
       "      <th>CustomerID</th>\n",
       "      <th>FirstName</th>\n",
       "      <th>LastName</th>\n",
       "      <th>SalesID</th>\n",
       "      <th>ProductID</th>\n",
       "      <th>ProductName</th>\n",
       "      <th>Quantity</th>\n",
       "    </tr>\n",
       "  </thead>\n",
       "  <tbody>\n",
       "    <tr>\n",
       "      <th>0</th>\n",
       "      <td>61288</td>\n",
       "      <td>Rosa</td>\n",
       "      <td>Andersen</td>\n",
       "      <td>134196</td>\n",
       "      <td>229</td>\n",
       "      <td>Bread - Hot Dog Buns</td>\n",
       "      <td>16</td>\n",
       "    </tr>\n",
       "    <tr>\n",
       "      <th>1</th>\n",
       "      <td>77352</td>\n",
       "      <td>Myron</td>\n",
       "      <td>Murray</td>\n",
       "      <td>6167892</td>\n",
       "      <td>229</td>\n",
       "      <td>Bread - Hot Dog Buns</td>\n",
       "      <td>20</td>\n",
       "    </tr>\n",
       "    <tr>\n",
       "      <th>2</th>\n",
       "      <td>40094</td>\n",
       "      <td>Susan</td>\n",
       "      <td>Stevenson</td>\n",
       "      <td>5970885</td>\n",
       "      <td>229</td>\n",
       "      <td>Bread - Hot Dog Buns</td>\n",
       "      <td>11</td>\n",
       "    </tr>\n",
       "    <tr>\n",
       "      <th>3</th>\n",
       "      <td>23548</td>\n",
       "      <td>Tricia</td>\n",
       "      <td>Vincent</td>\n",
       "      <td>6426954</td>\n",
       "      <td>229</td>\n",
       "      <td>Bread - Hot Dog Buns</td>\n",
       "      <td>6</td>\n",
       "    </tr>\n",
       "    <tr>\n",
       "      <th>4</th>\n",
       "      <td>78981</td>\n",
       "      <td>Scott</td>\n",
       "      <td>Burch</td>\n",
       "      <td>819094</td>\n",
       "      <td>229</td>\n",
       "      <td>Bread - Hot Dog Buns</td>\n",
       "      <td>20</td>\n",
       "    </tr>\n",
       "  </tbody>\n",
       "</table>\n",
       "</div>"
      ],
      "text/plain": [
       "   CustomerID FirstName   LastName  SalesID  ProductID           ProductName  \\\n",
       "0       61288      Rosa   Andersen   134196        229  Bread - Hot Dog Buns   \n",
       "1       77352     Myron     Murray  6167892        229  Bread - Hot Dog Buns   \n",
       "2       40094     Susan  Stevenson  5970885        229  Bread - Hot Dog Buns   \n",
       "3       23548    Tricia    Vincent  6426954        229  Bread - Hot Dog Buns   \n",
       "4       78981     Scott      Burch   819094        229  Bread - Hot Dog Buns   \n",
       "\n",
       "   Quantity  \n",
       "0        16  \n",
       "1        20  \n",
       "2        11  \n",
       "3         6  \n",
       "4        20  "
      ]
     },
     "execution_count": 3,
     "metadata": {},
     "output_type": "execute_result"
    }
   ],
   "source": [
    "data.head()"
   ]
  },
  {
   "cell_type": "markdown",
   "metadata": {},
   "source": [
    "## Step 1: Create a data frame that contains the total quantity of each product purchased by each customer.\n",
    "\n",
    "You will need to group by CustomerID and ProductName and then sum the Quantity field."
   ]
  },
  {
   "cell_type": "code",
   "execution_count": 4,
   "metadata": {},
   "outputs": [],
   "source": [
    "df = data.groupby(['CustomerID', 'ProductName'])['Quantity'].sum()\n",
    "df = pd.DataFrame(df)"
   ]
  },
  {
   "cell_type": "markdown",
   "metadata": {},
   "source": [
    "## Step 2: Use the `pivot_table` method to create a product by customer matrix.\n",
    "\n",
    "The rows of the matrix should represent the products, the columns should represent the customers, and the values should be the quantities of each product purchased by each customer. You will also need to replace nulls with zeros, which you can do using the `fillna` method."
   ]
  },
  {
   "cell_type": "code",
   "execution_count": 5,
   "metadata": {},
   "outputs": [
    {
     "data": {
      "text/html": [
       "<div>\n",
       "<style scoped>\n",
       "    .dataframe tbody tr th:only-of-type {\n",
       "        vertical-align: middle;\n",
       "    }\n",
       "\n",
       "    .dataframe tbody tr th {\n",
       "        vertical-align: top;\n",
       "    }\n",
       "\n",
       "    .dataframe thead th {\n",
       "        text-align: right;\n",
       "    }\n",
       "</style>\n",
       "<table border=\"1\" class=\"dataframe\">\n",
       "  <thead>\n",
       "    <tr style=\"text-align: right;\">\n",
       "      <th>CustomerID</th>\n",
       "      <th>33</th>\n",
       "      <th>200</th>\n",
       "      <th>264</th>\n",
       "      <th>356</th>\n",
       "      <th>412</th>\n",
       "      <th>464</th>\n",
       "      <th>477</th>\n",
       "      <th>639</th>\n",
       "      <th>649</th>\n",
       "      <th>669</th>\n",
       "      <th>...</th>\n",
       "      <th>97697</th>\n",
       "      <th>97753</th>\n",
       "      <th>97769</th>\n",
       "      <th>97793</th>\n",
       "      <th>97900</th>\n",
       "      <th>97928</th>\n",
       "      <th>98069</th>\n",
       "      <th>98159</th>\n",
       "      <th>98185</th>\n",
       "      <th>98200</th>\n",
       "    </tr>\n",
       "    <tr>\n",
       "      <th>ProductName</th>\n",
       "      <th></th>\n",
       "      <th></th>\n",
       "      <th></th>\n",
       "      <th></th>\n",
       "      <th></th>\n",
       "      <th></th>\n",
       "      <th></th>\n",
       "      <th></th>\n",
       "      <th></th>\n",
       "      <th></th>\n",
       "      <th></th>\n",
       "      <th></th>\n",
       "      <th></th>\n",
       "      <th></th>\n",
       "      <th></th>\n",
       "      <th></th>\n",
       "      <th></th>\n",
       "      <th></th>\n",
       "      <th></th>\n",
       "      <th></th>\n",
       "      <th></th>\n",
       "    </tr>\n",
       "  </thead>\n",
       "  <tbody>\n",
       "    <tr>\n",
       "      <th>Anchovy Paste - 56 G Tube</th>\n",
       "      <td>0</td>\n",
       "      <td>0</td>\n",
       "      <td>0</td>\n",
       "      <td>0</td>\n",
       "      <td>0</td>\n",
       "      <td>0</td>\n",
       "      <td>0</td>\n",
       "      <td>1</td>\n",
       "      <td>0</td>\n",
       "      <td>0</td>\n",
       "      <td>...</td>\n",
       "      <td>0</td>\n",
       "      <td>25</td>\n",
       "      <td>0</td>\n",
       "      <td>0</td>\n",
       "      <td>0</td>\n",
       "      <td>0</td>\n",
       "      <td>0</td>\n",
       "      <td>0</td>\n",
       "      <td>0</td>\n",
       "      <td>0</td>\n",
       "    </tr>\n",
       "    <tr>\n",
       "      <th>Appetizer - Mini Egg Roll, Shrimp</th>\n",
       "      <td>0</td>\n",
       "      <td>0</td>\n",
       "      <td>0</td>\n",
       "      <td>0</td>\n",
       "      <td>0</td>\n",
       "      <td>0</td>\n",
       "      <td>0</td>\n",
       "      <td>0</td>\n",
       "      <td>0</td>\n",
       "      <td>0</td>\n",
       "      <td>...</td>\n",
       "      <td>25</td>\n",
       "      <td>25</td>\n",
       "      <td>0</td>\n",
       "      <td>0</td>\n",
       "      <td>0</td>\n",
       "      <td>0</td>\n",
       "      <td>0</td>\n",
       "      <td>0</td>\n",
       "      <td>0</td>\n",
       "      <td>0</td>\n",
       "    </tr>\n",
       "    <tr>\n",
       "      <th>Appetizer - Mushroom Tart</th>\n",
       "      <td>0</td>\n",
       "      <td>0</td>\n",
       "      <td>0</td>\n",
       "      <td>0</td>\n",
       "      <td>0</td>\n",
       "      <td>0</td>\n",
       "      <td>0</td>\n",
       "      <td>1</td>\n",
       "      <td>0</td>\n",
       "      <td>0</td>\n",
       "      <td>...</td>\n",
       "      <td>25</td>\n",
       "      <td>0</td>\n",
       "      <td>0</td>\n",
       "      <td>0</td>\n",
       "      <td>0</td>\n",
       "      <td>0</td>\n",
       "      <td>0</td>\n",
       "      <td>0</td>\n",
       "      <td>25</td>\n",
       "      <td>0</td>\n",
       "    </tr>\n",
       "    <tr>\n",
       "      <th>Appetizer - Sausage Rolls</th>\n",
       "      <td>0</td>\n",
       "      <td>0</td>\n",
       "      <td>0</td>\n",
       "      <td>0</td>\n",
       "      <td>0</td>\n",
       "      <td>0</td>\n",
       "      <td>0</td>\n",
       "      <td>0</td>\n",
       "      <td>0</td>\n",
       "      <td>0</td>\n",
       "      <td>...</td>\n",
       "      <td>0</td>\n",
       "      <td>0</td>\n",
       "      <td>0</td>\n",
       "      <td>0</td>\n",
       "      <td>25</td>\n",
       "      <td>25</td>\n",
       "      <td>25</td>\n",
       "      <td>0</td>\n",
       "      <td>25</td>\n",
       "      <td>0</td>\n",
       "    </tr>\n",
       "    <tr>\n",
       "      <th>Apricots - Dried</th>\n",
       "      <td>1</td>\n",
       "      <td>0</td>\n",
       "      <td>0</td>\n",
       "      <td>0</td>\n",
       "      <td>1</td>\n",
       "      <td>0</td>\n",
       "      <td>0</td>\n",
       "      <td>0</td>\n",
       "      <td>0</td>\n",
       "      <td>0</td>\n",
       "      <td>...</td>\n",
       "      <td>0</td>\n",
       "      <td>25</td>\n",
       "      <td>0</td>\n",
       "      <td>0</td>\n",
       "      <td>0</td>\n",
       "      <td>0</td>\n",
       "      <td>0</td>\n",
       "      <td>0</td>\n",
       "      <td>0</td>\n",
       "      <td>0</td>\n",
       "    </tr>\n",
       "  </tbody>\n",
       "</table>\n",
       "<p>5 rows × 1000 columns</p>\n",
       "</div>"
      ],
      "text/plain": [
       "CustomerID                         33     200    264    356    412    464    \\\n",
       "ProductName                                                                   \n",
       "Anchovy Paste - 56 G Tube              0      0      0      0      0      0   \n",
       "Appetizer - Mini Egg Roll, Shrimp      0      0      0      0      0      0   \n",
       "Appetizer - Mushroom Tart              0      0      0      0      0      0   \n",
       "Appetizer - Sausage Rolls              0      0      0      0      0      0   \n",
       "Apricots - Dried                       1      0      0      0      1      0   \n",
       "\n",
       "CustomerID                         477    639    649    669    ...    97697  \\\n",
       "ProductName                                                    ...            \n",
       "Anchovy Paste - 56 G Tube              0      1      0      0  ...        0   \n",
       "Appetizer - Mini Egg Roll, Shrimp      0      0      0      0  ...       25   \n",
       "Appetizer - Mushroom Tart              0      1      0      0  ...       25   \n",
       "Appetizer - Sausage Rolls              0      0      0      0  ...        0   \n",
       "Apricots - Dried                       0      0      0      0  ...        0   \n",
       "\n",
       "CustomerID                         97753  97769  97793  97900  97928  98069  \\\n",
       "ProductName                                                                   \n",
       "Anchovy Paste - 56 G Tube             25      0      0      0      0      0   \n",
       "Appetizer - Mini Egg Roll, Shrimp     25      0      0      0      0      0   \n",
       "Appetizer - Mushroom Tart              0      0      0      0      0      0   \n",
       "Appetizer - Sausage Rolls              0      0      0     25     25     25   \n",
       "Apricots - Dried                      25      0      0      0      0      0   \n",
       "\n",
       "CustomerID                         98159  98185  98200  \n",
       "ProductName                                             \n",
       "Anchovy Paste - 56 G Tube              0      0      0  \n",
       "Appetizer - Mini Egg Roll, Shrimp      0      0      0  \n",
       "Appetizer - Mushroom Tart              0     25      0  \n",
       "Appetizer - Sausage Rolls              0     25      0  \n",
       "Apricots - Dried                       0      0      0  \n",
       "\n",
       "[5 rows x 1000 columns]"
      ]
     },
     "execution_count": 5,
     "metadata": {},
     "output_type": "execute_result"
    }
   ],
   "source": [
    "table = pd.pivot_table(df, values='Quantity' , columns='CustomerID', index='ProductName', fill_value=0)\n",
    "table.head()"
   ]
  },
  {
   "cell_type": "markdown",
   "metadata": {},
   "source": [
    "## Step 3: Create a customer similarity matrix using `squareform` and `pdist`. For the distance metric, choose \"euclidean.\""
   ]
  },
  {
   "cell_type": "code",
   "execution_count": 6,
   "metadata": {},
   "outputs": [
    {
     "data": {
      "text/plain": [
       "array([[  0.        ,  11.91637529,  10.48808848, ..., 228.62851966,\n",
       "        239.        , 229.77380181],\n",
       "       [ 11.91637529,   0.        ,  11.74734012, ..., 228.01096465,\n",
       "        239.03765394, 229.70415756],\n",
       "       [ 10.48808848,  11.74734012,   0.        , ..., 228.08112592,\n",
       "        238.26665734, 229.77380181],\n",
       "       ...,\n",
       "       [228.62851966, 228.01096465, 228.08112592, ...,   0.        ,\n",
       "        304.13812651, 305.16389039],\n",
       "       [239.        , 239.03765394, 238.26665734, ..., 304.13812651,\n",
       "          0.        , 303.10889132],\n",
       "       [229.77380181, 229.70415756, 229.77380181, ..., 305.16389039,\n",
       "        303.10889132,   0.        ]])"
      ]
     },
     "execution_count": 6,
     "metadata": {},
     "output_type": "execute_result"
    }
   ],
   "source": [
    "squareform(pdist(table.T, 'euclidean'))\n",
    "                          "
   ]
  },
  {
   "cell_type": "markdown",
   "metadata": {},
   "source": [
    "## Step 4: Check your results by generating a list of the top 5 most similar customers for a specific CustomerID."
   ]
  },
  {
   "cell_type": "code",
   "execution_count": 7,
   "metadata": {},
   "outputs": [
    {
     "data": {
      "text/plain": [
       "CustomerID\n",
       "3317    0.084959\n",
       "1072    0.083972\n",
       "3535    0.082403\n",
       "1920    0.082100\n",
       "3909    0.080920\n",
       "Name: 200, dtype: float64"
      ]
     },
     "execution_count": 7,
     "metadata": {},
     "output_type": "execute_result"
    }
   ],
   "source": [
    "distances = pd.DataFrame(1/(1 + squareform(pdist(table.T, 'euclidean'))), \n",
    "                         index=table.columns, columns=table.columns)\n",
    "\n",
    "similarities = distances[200].sort_values(ascending=False)[1:].head()\n",
    "similarities\n",
    "\n"
   ]
  },
  {
   "cell_type": "markdown",
   "metadata": {},
   "source": [
    "## Step 5: From the data frame you created in Step 1, select the records for the list of similar CustomerIDs you obtained in Step 4."
   ]
  },
  {
   "cell_type": "code",
   "execution_count": 8,
   "metadata": {},
   "outputs": [],
   "source": [
    "step5 = df.loc[similarities.index]"
   ]
  },
  {
   "cell_type": "markdown",
   "metadata": {},
   "source": [
    "## Step 6: Aggregate those customer purchase records by ProductName, sum the Quantity field, and then rank them in descending order by quantity.\n",
    "\n",
    "This will give you the total number of each product purchased by the 5 most similar customers to the customer you selected in order from most purchased to least."
   ]
  },
  {
   "cell_type": "code",
   "execution_count": 9,
   "metadata": {},
   "outputs": [],
   "source": [
    "step6 = step5.groupby(['ProductName']).sum()['Quantity'].sort_values(ascending= False)\n",
    "step6 = pd.DataFrame(step6)"
   ]
  },
  {
   "cell_type": "markdown",
   "metadata": {},
   "source": [
    "## Step 7: Filter the list for products that the chosen customer has not yet purchased and then recommend the top 5 products with the highest quantities that are left.\n",
    "\n",
    "- Merge the ranked products data frame with the customer product matrix on the ProductName field.\n",
    "- Filter for records where the chosen customer has not purchased the product.\n",
    "- Show the top 5 results."
   ]
  },
  {
   "cell_type": "code",
   "execution_count": 10,
   "metadata": {},
   "outputs": [],
   "source": [
    "step7 = table[table[200]==0].merge(step6, on = 'ProductName').sort_values(by='Quantity',ascending=False)[['Quantity']].head()"
   ]
  },
  {
   "cell_type": "markdown",
   "metadata": {},
   "source": [
    "## Step 8: Now that we have generated product recommendations for a single user, put the pieces together and iterate over a list of all CustomerIDs.\n",
    "\n",
    "- Create an empty dictionary that will hold the recommendations for all customers.\n",
    "- Create a list of unique CustomerIDs to iterate over.\n",
    "- Iterate over the customer list performing steps 4 through 7 for each and appending the results of each iteration to the dictionary you created."
   ]
  },
  {
   "cell_type": "code",
   "execution_count": 13,
   "metadata": {},
   "outputs": [],
   "source": [
    "lista = list(data.CustomerID)\n",
    "dic = {}\n",
    "\n",
    "for i in lista:\n",
    "    dic[i] = step7.to_dict()\n",
    "    similarities = distances[i].sort_values(ascending=False)[1:6]\n",
    "    step5 = df.loc[similarities.index]\n",
    "    step6 = step5.groupby([\"ProductName\"]).sum().Quantity.sort_values(ascending=False)\n",
    "    step7 = step6[~step6.index.isin(df.loc[i].index)].head()\n",
    "    dic[i] = step7.to_dict()\n",
    "    \n",
    "for i in dic:\n",
    "    dic[i] = [x for x in dic[i]]\n"
   ]
  },
  {
   "cell_type": "markdown",
   "metadata": {},
   "source": [
    "##  Step 9: Store the results in a Pandas data frame. The data frame should a column for Customer ID and then a column for each of the 5 product recommendations for each customer."
   ]
  },
  {
   "cell_type": "code",
   "execution_count": 17,
   "metadata": {
    "scrolled": true
   },
   "outputs": [
    {
     "data": {
      "text/html": [
       "<div>\n",
       "<style scoped>\n",
       "    .dataframe tbody tr th:only-of-type {\n",
       "        vertical-align: middle;\n",
       "    }\n",
       "\n",
       "    .dataframe tbody tr th {\n",
       "        vertical-align: top;\n",
       "    }\n",
       "\n",
       "    .dataframe thead th {\n",
       "        text-align: right;\n",
       "    }\n",
       "</style>\n",
       "<table border=\"1\" class=\"dataframe\">\n",
       "  <thead>\n",
       "    <tr style=\"text-align: right;\">\n",
       "      <th></th>\n",
       "      <th>Product 1</th>\n",
       "      <th>Product 2</th>\n",
       "      <th>Product 3</th>\n",
       "      <th>Product 4</th>\n",
       "      <th>Product 5</th>\n",
       "    </tr>\n",
       "  </thead>\n",
       "  <tbody>\n",
       "    <tr>\n",
       "      <th>61288</th>\n",
       "      <td>Jagermeister</td>\n",
       "      <td>Chicken - Soup Base</td>\n",
       "      <td>Lime Cordial - Roses</td>\n",
       "      <td>Macaroons - Two Bite Choc</td>\n",
       "      <td>Water - Mineral, Natural</td>\n",
       "    </tr>\n",
       "    <tr>\n",
       "      <th>77352</th>\n",
       "      <td>Wine - Valpolicella Masi</td>\n",
       "      <td>Tahini Paste</td>\n",
       "      <td>Tuna - Salad Premix</td>\n",
       "      <td>Chicken - Soup Base</td>\n",
       "      <td>Isomalt</td>\n",
       "    </tr>\n",
       "    <tr>\n",
       "      <th>40094</th>\n",
       "      <td>Bread - Italian Corn Meal Poly</td>\n",
       "      <td>Puree - Mocha</td>\n",
       "      <td>Tuna - Salad Premix</td>\n",
       "      <td>Oregano - Dry, Rubbed</td>\n",
       "      <td>Halibut - Steaks</td>\n",
       "    </tr>\n",
       "    <tr>\n",
       "      <th>23548</th>\n",
       "      <td>Squid - Tubes / Tenticles 10/20</td>\n",
       "      <td>Flavouring - Orange</td>\n",
       "      <td>Bread - Raisin Walnut Oval</td>\n",
       "      <td>Sprouts - Baby Pea Tendrils</td>\n",
       "      <td>Banana Turning</td>\n",
       "    </tr>\n",
       "    <tr>\n",
       "      <th>78981</th>\n",
       "      <td>Vanilla Beans</td>\n",
       "      <td>Lettuce - Frisee</td>\n",
       "      <td>Yogurt - Blueberry, 175 Gr</td>\n",
       "      <td>Cinnamon Buns Sticky</td>\n",
       "      <td>Beef - Inside Round</td>\n",
       "    </tr>\n",
       "  </tbody>\n",
       "</table>\n",
       "</div>"
      ],
      "text/plain": [
       "                             Product 1            Product 2  \\\n",
       "61288                     Jagermeister  Chicken - Soup Base   \n",
       "77352         Wine - Valpolicella Masi         Tahini Paste   \n",
       "40094   Bread - Italian Corn Meal Poly        Puree - Mocha   \n",
       "23548  Squid - Tubes / Tenticles 10/20  Flavouring - Orange   \n",
       "78981                    Vanilla Beans     Lettuce - Frisee   \n",
       "\n",
       "                        Product 3                    Product 4  \\\n",
       "61288        Lime Cordial - Roses    Macaroons - Two Bite Choc   \n",
       "77352         Tuna - Salad Premix          Chicken - Soup Base   \n",
       "40094         Tuna - Salad Premix        Oregano - Dry, Rubbed   \n",
       "23548  Bread - Raisin Walnut Oval  Sprouts - Baby Pea Tendrils   \n",
       "78981  Yogurt - Blueberry, 175 Gr         Cinnamon Buns Sticky   \n",
       "\n",
       "                      Product 5  \n",
       "61288  Water - Mineral, Natural  \n",
       "77352                   Isomalt  \n",
       "40094          Halibut - Steaks  \n",
       "23548            Banana Turning  \n",
       "78981       Beef - Inside Round  "
      ]
     },
     "execution_count": 17,
     "metadata": {},
     "output_type": "execute_result"
    }
   ],
   "source": [
    "products = pd.DataFrame.from_dict(dic).T\n",
    "products = products.rename(index=str, columns={0:\"Product 1\",1:\"Product 2\",2:\"Product 3\",3:\"Product 4\",4:\"Product 5\"})\n",
    "products.head()"
   ]
  },
  {
   "cell_type": "markdown",
   "metadata": {},
   "source": [
    "## Step 10: Change the distance metric used in Step 3 to something other than euclidean (correlation, cityblock, consine, jaccard, etc.). Regenerate the recommendations for all customers and note the differences."
   ]
  },
  {
   "cell_type": "code",
   "execution_count": 18,
   "metadata": {},
   "outputs": [],
   "source": [
    "distances = pd.DataFrame(1/(1 + squareform(pdist(table.T, 'cityblock'))), \n",
    "                         index=table.columns, columns=table.columns)\n",
    "\n",
    "similarities = distances[200].sort_values(ascending=False)[1:].head()\n",
    "similarities\n",
    "\n",
    "lista = list(data.CustomerID)\n",
    "dic = {}\n",
    "\n",
    "for i in lista:\n",
    "    dic[i] = step7.to_dict()\n",
    "    similarities = distances[i].sort_values(ascending=False)[1:6]\n",
    "    step5 = df.loc[similarities.index]\n",
    "    step6 = step5.groupby([\"ProductName\"]).sum().Quantity.sort_values(ascending=False)\n",
    "    step7 = step6[~step6.index.isin(df.loc[i].index)].head()\n",
    "    dic[i] = step7.to_dict()\n",
    "    \n",
    "for i in dic:\n",
    "    dic[i] = [x for x in dic[i]]"
   ]
  },
  {
   "cell_type": "code",
   "execution_count": null,
   "metadata": {},
   "outputs": [],
   "source": []
  }
 ],
 "metadata": {
  "kernelspec": {
   "display_name": "Python 3",
   "language": "python",
   "name": "python3"
  },
  "language_info": {
   "codemirror_mode": {
    "name": "ipython",
    "version": 3
   },
   "file_extension": ".py",
   "mimetype": "text/x-python",
   "name": "python",
   "nbconvert_exporter": "python",
   "pygments_lexer": "ipython3",
   "version": "3.7.1"
  }
 },
 "nbformat": 4,
 "nbformat_minor": 2
}
